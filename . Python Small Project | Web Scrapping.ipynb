{
 "cells": [
  {
   "cell_type": "code",
   "execution_count": 1,
   "id": "a32ceec6",
   "metadata": {
    "_cell_guid": "b1076dfc-b9ad-4769-8c92-a6c4dae69d19",
    "_uuid": "8f2839f25d086af736a60e9eeb907d3b93b6e0e5",
    "execution": {
     "iopub.execute_input": "2024-10-12T13:59:19.678664Z",
     "iopub.status.busy": "2024-10-12T13:59:19.678261Z",
     "iopub.status.idle": "2024-10-12T13:59:20.841387Z",
     "shell.execute_reply": "2024-10-12T13:59:20.840378Z"
    },
    "papermill": {
     "duration": 1.171306,
     "end_time": "2024-10-12T13:59:20.844062",
     "exception": false,
     "start_time": "2024-10-12T13:59:19.672756",
     "status": "completed"
    },
    "tags": []
   },
   "outputs": [],
   "source": [
    "import requests   # For Sending the HTTP requests and interacting with the web server\n",
    "from bs4 import BeautifulSoup  # for scrapping the data from HTML and XML documents\n",
    "import csv  # for reading CSV files\n",
    "import pandas as pd\n",
    "import os  # for interacting with the operating system and file system"
   ]
  },
  {
   "cell_type": "code",
   "execution_count": 2,
   "id": "c2acdf39",
   "metadata": {
    "execution": {
     "iopub.execute_input": "2024-10-12T13:59:20.854271Z",
     "iopub.status.busy": "2024-10-12T13:59:20.853328Z",
     "iopub.status.idle": "2024-10-12T13:59:21.130018Z",
     "shell.execute_reply": "2024-10-12T13:59:21.128820Z"
    },
    "papermill": {
     "duration": 0.283953,
     "end_time": "2024-10-12T13:59:21.132508",
     "exception": false,
     "start_time": "2024-10-12T13:59:20.848555",
     "status": "completed"
    },
    "tags": []
   },
   "outputs": [],
   "source": [
    "url = \"https://en.wikipedia.org/wiki/List_of_largest_companies_in_the_United_States_by_revenue\"\n",
    "\n",
    "response = requests.get(url)"
   ]
  },
  {
   "cell_type": "code",
   "execution_count": 3,
   "id": "7942b0b1",
   "metadata": {
    "execution": {
     "iopub.execute_input": "2024-10-12T13:59:21.141074Z",
     "iopub.status.busy": "2024-10-12T13:59:21.140670Z",
     "iopub.status.idle": "2024-10-12T13:59:21.271214Z",
     "shell.execute_reply": "2024-10-12T13:59:21.270081Z"
    },
    "papermill": {
     "duration": 0.137678,
     "end_time": "2024-10-12T13:59:21.273729",
     "exception": false,
     "start_time": "2024-10-12T13:59:21.136051",
     "status": "completed"
    },
    "tags": []
   },
   "outputs": [],
   "source": [
    "soup = BeautifulSoup(response.content, 'html.parser')\n",
    "\n",
    "tables = soup.find_all('table', class_ = 'wikitable sortable')"
   ]
  },
  {
   "cell_type": "code",
   "execution_count": 4,
   "id": "af90a28b",
   "metadata": {
    "execution": {
     "iopub.execute_input": "2024-10-12T13:59:21.282433Z",
     "iopub.status.busy": "2024-10-12T13:59:21.282034Z",
     "iopub.status.idle": "2024-10-12T13:59:21.294684Z",
     "shell.execute_reply": "2024-10-12T13:59:21.293537Z"
    },
    "papermill": {
     "duration": 0.01952,
     "end_time": "2024-10-12T13:59:21.296811",
     "exception": false,
     "start_time": "2024-10-12T13:59:21.277291",
     "status": "completed"
    },
    "tags": []
   },
   "outputs": [
    {
     "name": "stdout",
     "output_type": "stream",
     "text": [
      "3\n"
     ]
    }
   ],
   "source": [
    "tables = soup.find_all('table', class_ = 'wikitable sortable')\n",
    "\n",
    "print(len(tables))"
   ]
  },
  {
   "cell_type": "code",
   "execution_count": 5,
   "id": "3220377f",
   "metadata": {
    "execution": {
     "iopub.execute_input": "2024-10-12T13:59:21.305335Z",
     "iopub.status.busy": "2024-10-12T13:59:21.304984Z",
     "iopub.status.idle": "2024-10-12T13:59:21.312127Z",
     "shell.execute_reply": "2024-10-12T13:59:21.310929Z"
    },
    "papermill": {
     "duration": 0.013881,
     "end_time": "2024-10-12T13:59:21.314232",
     "exception": false,
     "start_time": "2024-10-12T13:59:21.300351",
     "status": "completed"
    },
    "tags": []
   },
   "outputs": [],
   "source": [
    "first_table = tables[0]\n",
    "\n",
    "headers = [th.text.strip() for th in first_table.find_all('tr')[0].find_all('th')]\n"
   ]
  },
  {
   "cell_type": "code",
   "execution_count": 6,
   "id": "ea460347",
   "metadata": {
    "execution": {
     "iopub.execute_input": "2024-10-12T13:59:21.322991Z",
     "iopub.status.busy": "2024-10-12T13:59:21.322345Z",
     "iopub.status.idle": "2024-10-12T13:59:21.334042Z",
     "shell.execute_reply": "2024-10-12T13:59:21.333064Z"
    },
    "papermill": {
     "duration": 0.018211,
     "end_time": "2024-10-12T13:59:21.336019",
     "exception": false,
     "start_time": "2024-10-12T13:59:21.317808",
     "status": "completed"
    },
    "tags": []
   },
   "outputs": [],
   "source": [
    "data = []\n",
    "\n",
    "for row in first_table.find_all('tr')[1:]:\n",
    "    row_data = [td.text.strip() for td in row.find_all('td')]\n",
    "    data.append(row_data)"
   ]
  },
  {
   "cell_type": "code",
   "execution_count": 7,
   "id": "97f60df8",
   "metadata": {
    "execution": {
     "iopub.execute_input": "2024-10-12T13:59:21.344400Z",
     "iopub.status.busy": "2024-10-12T13:59:21.344030Z",
     "iopub.status.idle": "2024-10-12T13:59:21.349362Z",
     "shell.execute_reply": "2024-10-12T13:59:21.348279Z"
    },
    "papermill": {
     "duration": 0.01205,
     "end_time": "2024-10-12T13:59:21.351715",
     "exception": false,
     "start_time": "2024-10-12T13:59:21.339665",
     "status": "completed"
    },
    "tags": []
   },
   "outputs": [
    {
     "name": "stdout",
     "output_type": "stream",
     "text": [
      "Data Shape: 100 7\n"
     ]
    }
   ],
   "source": [
    "print('Data Shape:', len(data), len(data[0]))"
   ]
  },
  {
   "cell_type": "code",
   "execution_count": 8,
   "id": "aced93d4",
   "metadata": {
    "execution": {
     "iopub.execute_input": "2024-10-12T13:59:21.360169Z",
     "iopub.status.busy": "2024-10-12T13:59:21.359821Z",
     "iopub.status.idle": "2024-10-12T13:59:21.389585Z",
     "shell.execute_reply": "2024-10-12T13:59:21.388505Z"
    },
    "papermill": {
     "duration": 0.036712,
     "end_time": "2024-10-12T13:59:21.391964",
     "exception": false,
     "start_time": "2024-10-12T13:59:21.355252",
     "status": "completed"
    },
    "tags": []
   },
   "outputs": [
    {
     "data": {
      "text/html": [
       "<div>\n",
       "<style scoped>\n",
       "    .dataframe tbody tr th:only-of-type {\n",
       "        vertical-align: middle;\n",
       "    }\n",
       "\n",
       "    .dataframe tbody tr th {\n",
       "        vertical-align: top;\n",
       "    }\n",
       "\n",
       "    .dataframe thead th {\n",
       "        text-align: right;\n",
       "    }\n",
       "</style>\n",
       "<table border=\"1\" class=\"dataframe\">\n",
       "  <thead>\n",
       "    <tr style=\"text-align: right;\">\n",
       "      <th></th>\n",
       "      <th>Rank</th>\n",
       "      <th>Name</th>\n",
       "      <th>Industry</th>\n",
       "      <th>Revenue (USD millions)</th>\n",
       "      <th>Revenue growth</th>\n",
       "      <th>Employees</th>\n",
       "      <th>Headquarters</th>\n",
       "    </tr>\n",
       "  </thead>\n",
       "  <tbody>\n",
       "    <tr>\n",
       "      <th>0</th>\n",
       "      <td>1</td>\n",
       "      <td>Walmart</td>\n",
       "      <td>Retail</td>\n",
       "      <td>648,125</td>\n",
       "      <td>6.0%</td>\n",
       "      <td>2,100,000</td>\n",
       "      <td>Bentonville, Arkansas</td>\n",
       "    </tr>\n",
       "    <tr>\n",
       "      <th>1</th>\n",
       "      <td>2</td>\n",
       "      <td>Amazon</td>\n",
       "      <td>Retail and cloud computing</td>\n",
       "      <td>574,785</td>\n",
       "      <td>11.9%</td>\n",
       "      <td>1,525,000</td>\n",
       "      <td>Seattle, Washington</td>\n",
       "    </tr>\n",
       "    <tr>\n",
       "      <th>2</th>\n",
       "      <td>3</td>\n",
       "      <td>Apple</td>\n",
       "      <td>Electronics industry</td>\n",
       "      <td>383,482</td>\n",
       "      <td>-2.8%</td>\n",
       "      <td>161,000</td>\n",
       "      <td>Cupertino, California</td>\n",
       "    </tr>\n",
       "    <tr>\n",
       "      <th>3</th>\n",
       "      <td>4</td>\n",
       "      <td>UnitedHealth Group</td>\n",
       "      <td>Healthcare</td>\n",
       "      <td>371,622</td>\n",
       "      <td>14.6%</td>\n",
       "      <td>440,000</td>\n",
       "      <td>Minnetonka, Minnesota</td>\n",
       "    </tr>\n",
       "    <tr>\n",
       "      <th>4</th>\n",
       "      <td>5</td>\n",
       "      <td>Berkshire Hathaway</td>\n",
       "      <td>Conglomerate</td>\n",
       "      <td>364,482</td>\n",
       "      <td>20.7%</td>\n",
       "      <td>396,500</td>\n",
       "      <td>Omaha, Nebraska</td>\n",
       "    </tr>\n",
       "    <tr>\n",
       "      <th>...</th>\n",
       "      <td>...</td>\n",
       "      <td>...</td>\n",
       "      <td>...</td>\n",
       "      <td>...</td>\n",
       "      <td>...</td>\n",
       "      <td>...</td>\n",
       "      <td>...</td>\n",
       "    </tr>\n",
       "    <tr>\n",
       "      <th>95</th>\n",
       "      <td>96</td>\n",
       "      <td>TIAA</td>\n",
       "      <td>Financials</td>\n",
       "      <td>45,735</td>\n",
       "      <td>11.8%</td>\n",
       "      <td>16,023</td>\n",
       "      <td>New York City, New York</td>\n",
       "    </tr>\n",
       "    <tr>\n",
       "      <th>96</th>\n",
       "      <td>97</td>\n",
       "      <td>CHS</td>\n",
       "      <td>Agriculture cooperative</td>\n",
       "      <td>45,590</td>\n",
       "      <td>-4.6%</td>\n",
       "      <td>10,609</td>\n",
       "      <td>Inver Grove Heights, Minnesota</td>\n",
       "    </tr>\n",
       "    <tr>\n",
       "      <th>97</th>\n",
       "      <td>98</td>\n",
       "      <td>Bristol-Myers Squibb</td>\n",
       "      <td>Pharmaceutical industry</td>\n",
       "      <td>45,006</td>\n",
       "      <td>-2.5%</td>\n",
       "      <td>34,100</td>\n",
       "      <td>New York City, New York</td>\n",
       "    </tr>\n",
       "    <tr>\n",
       "      <th>98</th>\n",
       "      <td>99</td>\n",
       "      <td>Dow Chemical Company</td>\n",
       "      <td>Chemical industry</td>\n",
       "      <td>44,622</td>\n",
       "      <td>-21.6%</td>\n",
       "      <td>35,900</td>\n",
       "      <td>Midland, Michigan</td>\n",
       "    </tr>\n",
       "    <tr>\n",
       "      <th>99</th>\n",
       "      <td>100</td>\n",
       "      <td>Best Buy</td>\n",
       "      <td>Retail</td>\n",
       "      <td>43,452</td>\n",
       "      <td>-6.1%</td>\n",
       "      <td>85,000</td>\n",
       "      <td>Richfield, Minnesota</td>\n",
       "    </tr>\n",
       "  </tbody>\n",
       "</table>\n",
       "<p>100 rows × 7 columns</p>\n",
       "</div>"
      ],
      "text/plain": [
       "   Rank                  Name                    Industry  \\\n",
       "0     1               Walmart                      Retail   \n",
       "1     2                Amazon  Retail and cloud computing   \n",
       "2     3                 Apple        Electronics industry   \n",
       "3     4    UnitedHealth Group                  Healthcare   \n",
       "4     5    Berkshire Hathaway                Conglomerate   \n",
       "..  ...                   ...                         ...   \n",
       "95   96                  TIAA                  Financials   \n",
       "96   97                   CHS     Agriculture cooperative   \n",
       "97   98  Bristol-Myers Squibb     Pharmaceutical industry   \n",
       "98   99  Dow Chemical Company           Chemical industry   \n",
       "99  100              Best Buy                      Retail   \n",
       "\n",
       "   Revenue (USD millions) Revenue growth  Employees  \\\n",
       "0                 648,125           6.0%  2,100,000   \n",
       "1                 574,785          11.9%  1,525,000   \n",
       "2                 383,482          -2.8%    161,000   \n",
       "3                 371,622          14.6%    440,000   \n",
       "4                 364,482          20.7%    396,500   \n",
       "..                    ...            ...        ...   \n",
       "95                 45,735          11.8%     16,023   \n",
       "96                 45,590          -4.6%     10,609   \n",
       "97                 45,006          -2.5%     34,100   \n",
       "98                 44,622         -21.6%     35,900   \n",
       "99                 43,452          -6.1%     85,000   \n",
       "\n",
       "                      Headquarters  \n",
       "0            Bentonville, Arkansas  \n",
       "1              Seattle, Washington  \n",
       "2            Cupertino, California  \n",
       "3            Minnetonka, Minnesota  \n",
       "4                  Omaha, Nebraska  \n",
       "..                             ...  \n",
       "95         New York City, New York  \n",
       "96  Inver Grove Heights, Minnesota  \n",
       "97         New York City, New York  \n",
       "98               Midland, Michigan  \n",
       "99            Richfield, Minnesota  \n",
       "\n",
       "[100 rows x 7 columns]"
      ]
     },
     "execution_count": 8,
     "metadata": {},
     "output_type": "execute_result"
    }
   ],
   "source": [
    "df = pd.DataFrame(data, columns = headers)\n",
    "df"
   ]
  },
  {
   "cell_type": "code",
   "execution_count": 9,
   "id": "ec0e7d31",
   "metadata": {
    "execution": {
     "iopub.execute_input": "2024-10-12T13:59:21.402154Z",
     "iopub.status.busy": "2024-10-12T13:59:21.401706Z",
     "iopub.status.idle": "2024-10-12T13:59:21.412649Z",
     "shell.execute_reply": "2024-10-12T13:59:21.411573Z"
    },
    "papermill": {
     "duration": 0.01882,
     "end_time": "2024-10-12T13:59:21.414986",
     "exception": false,
     "start_time": "2024-10-12T13:59:21.396166",
     "status": "completed"
    },
    "tags": []
   },
   "outputs": [],
   "source": [
    "df.to_csv('largest_companies.csv', index = False)"
   ]
  },
  {
   "cell_type": "code",
   "execution_count": 10,
   "id": "33607ee9",
   "metadata": {
    "execution": {
     "iopub.execute_input": "2024-10-12T13:59:21.424463Z",
     "iopub.status.busy": "2024-10-12T13:59:21.424074Z",
     "iopub.status.idle": "2024-10-12T13:59:21.432373Z",
     "shell.execute_reply": "2024-10-12T13:59:21.431294Z"
    },
    "papermill": {
     "duration": 0.015505,
     "end_time": "2024-10-12T13:59:21.434535",
     "exception": false,
     "start_time": "2024-10-12T13:59:21.419030",
     "status": "completed"
    },
    "tags": []
   },
   "outputs": [
    {
     "name": "stdout",
     "output_type": "stream",
     "text": [
      "CSV File Saved to /kaggle.working/my_data/largest_companies.csv\n"
     ]
    }
   ],
   "source": [
    "folder_name = 'my_data'\n",
    "folder_path = os.path.join('/kaggle.working', folder_name)\n",
    "os.makedirs(folder_path, exist_ok=True)\n",
    "\n",
    "csv_file_path = os.path.join(folder_path, 'largest_companies.csv')\n",
    "df.to_csv(csv_file_path, index = False)\n",
    "\n",
    "print(f'CSV File Saved to {csv_file_path}')"
   ]
  },
  {
   "cell_type": "code",
   "execution_count": 11,
   "id": "f1085de1",
   "metadata": {
    "execution": {
     "iopub.execute_input": "2024-10-12T13:59:21.444263Z",
     "iopub.status.busy": "2024-10-12T13:59:21.443865Z",
     "iopub.status.idle": "2024-10-12T13:59:22.497721Z",
     "shell.execute_reply": "2024-10-12T13:59:22.496404Z"
    },
    "papermill": {
     "duration": 1.061925,
     "end_time": "2024-10-12T13:59:22.500537",
     "exception": false,
     "start_time": "2024-10-12T13:59:21.438612",
     "status": "completed"
    },
    "tags": []
   },
   "outputs": [
    {
     "name": "stdout",
     "output_type": "stream",
     "text": [
      "__notebook__.ipynb  largest_companies.csv\r\n"
     ]
    }
   ],
   "source": [
    "!ls /kaggle/working"
   ]
  },
  {
   "cell_type": "code",
   "execution_count": null,
   "id": "ae38ac4a",
   "metadata": {
    "papermill": {
     "duration": 0.003853,
     "end_time": "2024-10-12T13:59:22.509698",
     "exception": false,
     "start_time": "2024-10-12T13:59:22.505845",
     "status": "completed"
    },
    "tags": []
   },
   "outputs": [],
   "source": []
  }
 ],
 "metadata": {
  "kaggle": {
   "accelerator": "none",
   "dataSources": [],
   "dockerImageVersionId": 30786,
   "isGpuEnabled": false,
   "isInternetEnabled": true,
   "language": "python",
   "sourceType": "notebook"
  },
  "kernelspec": {
   "display_name": "Python 3",
   "language": "python",
   "name": "python3"
  },
  "language_info": {
   "codemirror_mode": {
    "name": "ipython",
    "version": 3
   },
   "file_extension": ".py",
   "mimetype": "text/x-python",
   "name": "python",
   "nbconvert_exporter": "python",
   "pygments_lexer": "ipython3",
   "version": "3.10.14"
  },
  "papermill": {
   "default_parameters": {},
   "duration": 6.104766,
   "end_time": "2024-10-12T13:59:23.034307",
   "environment_variables": {},
   "exception": null,
   "input_path": "__notebook__.ipynb",
   "output_path": "__notebook__.ipynb",
   "parameters": {},
   "start_time": "2024-10-12T13:59:16.929541",
   "version": "2.6.0"
  }
 },
 "nbformat": 4,
 "nbformat_minor": 5
}
